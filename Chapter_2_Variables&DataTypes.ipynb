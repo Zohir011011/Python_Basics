{
  "nbformat": 4,
  "nbformat_minor": 0,
  "metadata": {
    "colab": {
      "provenance": [],
      "authorship_tag": "ABX9TyMyZLZpuAQ5EKv+sNhCIfjY",
      "include_colab_link": true
    },
    "kernelspec": {
      "name": "python3",
      "display_name": "Python 3"
    },
    "language_info": {
      "name": "python"
    }
  },
  "cells": [
    {
      "cell_type": "markdown",
      "metadata": {
        "id": "view-in-github",
        "colab_type": "text"
      },
      "source": [
        "<a href=\"https://colab.research.google.com/github/Zohir011011/Python_Basics/blob/main/Chapter_2_Variables%26DataTypes.ipynb\" target=\"_parent\"><img src=\"https://colab.research.google.com/assets/colab-badge.svg\" alt=\"Open In Colab\"/></a>"
      ]
    },
    {
      "cell_type": "markdown",
      "source": [
        "#Lets start coding something in python"
      ],
      "metadata": {
        "id": "PDLvCPWMza0V"
      }
    },
    {
      "cell_type": "code",
      "source": [
        "print(\"Hello World\")"
      ],
      "metadata": {
        "colab": {
          "base_uri": "https://localhost:8080/"
        },
        "id": "kRrvIsDZzwnL",
        "outputId": "5354c895-31fe-467d-c8f6-6b2a756d7f57"
      },
      "execution_count": null,
      "outputs": [
        {
          "output_type": "stream",
          "name": "stdout",
          "text": [
            "Hello World\n"
          ]
        }
      ]
    },
    {
      "cell_type": "markdown",
      "source": [
        "**Variable**\n",
        "\n",
        "Variable holds value. When we call a variable, python interpreter use the value associated with the variable."
      ],
      "metadata": {
        "id": "CW2KHAJ_0RtN"
      }
    },
    {
      "cell_type": "code",
      "source": [
        "variable = \"Hello World\"\n",
        "var = \"This is a variable\"\n",
        "x = 5\n",
        "y = 100.10\n",
        "a, b, c = 10, 22, \"Number\"\n",
        "\n",
        "print(var)\n",
        "print()\n",
        "print(x)\n",
        "print()\n",
        "print(b)"
      ],
      "metadata": {
        "colab": {
          "base_uri": "https://localhost:8080/"
        },
        "id": "uDq_HJ591dW0",
        "outputId": "f89ee653-a141-4bcf-fd6e-501b7edc751b"
      },
      "execution_count": null,
      "outputs": [
        {
          "output_type": "stream",
          "name": "stdout",
          "text": [
            "This is a variable\n",
            "\n",
            "5\n",
            "\n",
            "22\n"
          ]
        }
      ]
    },
    {
      "cell_type": "markdown",
      "source": [
        "**Note:**\n",
        "\n",
        "We have remeber some rules & regulations creating variable.\n",
        "\n",
        "\n",
        "1.  Variable names can contain only letters, numbers, and underscores. They can start with a letter or an underscore, but not with a number. For instance, we can call a variable **message_1** but not **1_message**.\n",
        "\n",
        "1.   Spaces are not allowed in variable names, but underscores can be used to separate words in variable names. For example, **greeting_message** works, but **greeting message** will cause errors.\n",
        "\n",
        "1.   Avoid using Python keywords and function names as variable names.\n",
        "2.   Variable names should be short but descriptive.\n",
        "\n",
        "\n",
        "2.   Be careful when using the letters (lowercase or uppercase) Python is a case sensitive programing language.\n",
        "\n",
        "\n",
        "\n"
      ],
      "metadata": {
        "id": "hebtVNI42cgc"
      }
    },
    {
      "cell_type": "code",
      "source": [
        "#Question_2.1: Store a message in a variable and print that message\n",
        "message_1 = \"This is a python carsh course book\"\n",
        "print(message_1)"
      ],
      "metadata": {
        "colab": {
          "base_uri": "https://localhost:8080/"
        },
        "id": "3YEQ8-Ym3ST0",
        "outputId": "9af3d3eb-a894-45f4-c6aa-07918bf36772"
      },
      "execution_count": null,
      "outputs": [
        {
          "output_type": "stream",
          "name": "stdout",
          "text": [
            "This is a python carsh course book\n"
          ]
        }
      ]
    },
    {
      "cell_type": "code",
      "source": [
        "#Question_2.2: Store a message in a variable and print it. Then change the value of the variable to a new message and print it.\n",
        "message_1 = \"Python is an easy language for coding\"\n",
        "print(message_1)\n",
        "\n",
        "message_2 = \"Python is a useful language for data science\"\n",
        "print(message_2)"
      ],
      "metadata": {
        "colab": {
          "base_uri": "https://localhost:8080/"
        },
        "id": "TZZ0mbz56fBz",
        "outputId": "a9ac4cdb-cfb7-41de-d13a-dc5fd7308cc6"
      },
      "execution_count": null,
      "outputs": [
        {
          "output_type": "stream",
          "name": "stdout",
          "text": [
            "Python is an easy language for coding\n",
            "Python is a useful language for data science\n"
          ]
        }
      ]
    },
    {
      "cell_type": "markdown",
      "source": [
        "**String**\n",
        "\n",
        "A string is simply a series of characters. Anything inside quotes is considered a string in Python, and we can use single or double quotes around our strings. But it is better if we use double quotes in python."
      ],
      "metadata": {
        "id": "HEVr5q2x7zZq"
      }
    },
    {
      "cell_type": "code",
      "source": [
        "print(\"This is a string\")\n",
        "print('This is also a string')\n",
        "print(\"Number can be string too, 1, 2, 3 etc\")\n",
        "print(\"*, #, -, a, 5 etc anything we write between quotes will be considered as string\")"
      ],
      "metadata": {
        "colab": {
          "base_uri": "https://localhost:8080/"
        },
        "id": "3AwF4K_F8r07",
        "outputId": "a3ad692b-c2c6-404b-d560-568bee31afdc"
      },
      "execution_count": null,
      "outputs": [
        {
          "output_type": "stream",
          "name": "stdout",
          "text": [
            "This is a string\n",
            "This is also a string\n",
            "Number can be string too, 1, 2, 3 etc\n",
            "*, #, -, a, 5 etc anything we write between quotes will be considered as string\n"
          ]
        }
      ]
    },
    {
      "cell_type": "markdown",
      "source": [
        "**Some string methods**\n",
        "\n",
        "\n",
        "*   title()---Converts the first character of each word to upper case\n",
        "*   upper()---Converts a string into upper case\n",
        "\n",
        "*   lower()---Converts a string into lower case\n",
        "*   strip()---Returns a trimmed version of the string\n",
        "\n",
        "*  rstrip()---Returns a right trim version of the string\n",
        "*  lstrip()---Returns a left trim version of the string\n",
        "\n",
        "*   split()---Splits the string at the specified separator, and returns a list\n",
        "*   replace()---Returns a string where a specified value is replaced with a specified value\n",
        "\n",
        "*   join()---Converts the elements of an iterable (list, tuple, dict) into a string\n",
        "*   index()---Searches the string for a specified value and returns the position of where it was found\n",
        "\n",
        "*   find()---Searches the string for a specified value and returns the position of where it was found\n",
        "*   count()---Returns the number of times a specified value occurs in a string\n",
        "\n",
        "*   capitalize()---Converts the first character to upper case\n",
        "\n",
        "\n",
        "\n",
        "\n",
        "\n",
        "\n",
        "\n",
        "\n",
        "\n",
        "\n",
        "\n"
      ],
      "metadata": {
        "id": "mx007LuT-1Ki"
      }
    },
    {
      "cell_type": "code",
      "source": [
        "str_1 = \"this is a string for string methods\"\n",
        "str_2 = \"THIS IS A STRING FOR STRING METHODS\"\n",
        "str_3 = \"abcdefghijklmnopqrstuvwxyz\"\n",
        "str_4 = \"agndhsjshsnsnds\"\n",
        "str_5 = \"        abcdefghijk       \"\n",
        "str_6 = \"Python/java/c/html\"\n",
        "tuple_1 = (\"python\", \"java\", \"C\", \"R\")\n",
        "\n",
        "\n",
        "print(str_1.title())                   #title()\n",
        "print(str_2.capitalize())              #capitalize()\n",
        "print(str_1.upper())                   #upper()\n",
        "print(str_2.lower())                   #lower()\n",
        "print(str_5.strip())                   #strip()\n",
        "print(str_5.lstrip())                  #lstrip()\n",
        "print(str_5.rstrip())                  #rstrip()\n",
        "print(str_4.count(\"s\"))                #count()\n",
        "print(str_3.find(\"i\"))                 #find()\n",
        "print(str_3.index(\"d\"))                #index()\n",
        "print(str_6.split(\"/\"))                #split()\n",
        "print(str_6.replace(\"Python\", \"R\"))    #replace()\n",
        "print(\"/\".join(tuple_1))               #join()"
      ],
      "metadata": {
        "colab": {
          "base_uri": "https://localhost:8080/"
        },
        "id": "nZoUCuruCn15",
        "outputId": "8d98bf4c-2b99-4df9-af95-4f835209f7df"
      },
      "execution_count": null,
      "outputs": [
        {
          "output_type": "stream",
          "name": "stdout",
          "text": [
            "This Is A String For String Methods\n",
            "This is a string for string methods\n",
            "THIS IS A STRING FOR STRING METHODS\n",
            "this is a string for string methods\n",
            "abcdefghijk\n",
            "abcdefghijk       \n",
            "        abcdefghijk\n",
            "5\n",
            "8\n",
            "3\n",
            "['Python', 'java', 'c', 'html']\n",
            "R/java/c/html\n",
            "python/java/C/R\n"
          ]
        }
      ]
    },
    {
      "cell_type": "markdown",
      "source": [
        "**String Conctenation**"
      ],
      "metadata": {
        "id": "7wvcPBUnP-xo"
      }
    },
    {
      "cell_type": "code",
      "source": [
        "first_name = \"ada\"\n",
        "last_name = \"lovelace\"\n",
        "full_name = first_name + \" \" + last_name\n",
        "print(full_name)\n",
        "\n",
        "print(\"Hello, \" + full_name.title() + \"!\")\n",
        "\n",
        "#we can do this concatenation using f string\n",
        "print(f\"Hello, {first_name.title()} {last_name.title()}!\")"
      ],
      "metadata": {
        "colab": {
          "base_uri": "https://localhost:8080/"
        },
        "id": "Zu53k9uOQSY_",
        "outputId": "e671b10a-ab6c-4a9a-83d2-e79cc13afe50"
      },
      "execution_count": null,
      "outputs": [
        {
          "output_type": "stream",
          "name": "stdout",
          "text": [
            "ada lovelace\n",
            "Hello, Ada Lovelace!\n",
            "Hello, Ada Lovelace!\n"
          ]
        }
      ]
    },
    {
      "cell_type": "markdown",
      "source": [
        "**Scape Character**\n",
        "\n",
        "\n",
        "*   \\t---use for inserting a white space or tab\n",
        "*   \\n---uer for new line\n",
        "\n"
      ],
      "metadata": {
        "id": "gKdaYFtdSJYw"
      }
    },
    {
      "cell_type": "code",
      "source": [
        "print(\"AdaLove\")\n",
        "print(\"Ada\\tLove\")\n",
        "\n",
        "print(\"Python,Java,C,HTML\")\n",
        "print(\"Python,\\nJava,\\nC,\\nHTML\")"
      ],
      "metadata": {
        "colab": {
          "base_uri": "https://localhost:8080/"
        },
        "id": "48oZ1F5YS8ve",
        "outputId": "ae491f82-0cb3-4f16-acae-86c3fe172a4b"
      },
      "execution_count": null,
      "outputs": [
        {
          "output_type": "stream",
          "name": "stdout",
          "text": [
            "AdaLove\n",
            "Ada\tLove\n",
            "Python,Java,C,HTML\n",
            "Python,\n",
            "Java,\n",
            "C,\n",
            "HTML\n"
          ]
        }
      ]
    },
    {
      "cell_type": "markdown",
      "source": [
        "**String Slicing**\n",
        "\n",
        "Python considers the first element in a string to be at position 0, second element is 1, third element is 2,...... We have to call an element by its index number."
      ],
      "metadata": {
        "id": "9Apj2fGWgtAy"
      }
    },
    {
      "cell_type": "code",
      "source": [
        "number = \"123456789\" # here index number of 1 is 0, 2 is 1, 3 is 2,... is 8\n",
        "print(number[0])\n",
        "print(number[1])\n",
        "print(number[2])\n",
        "print(number[8])"
      ],
      "metadata": {
        "colab": {
          "base_uri": "https://localhost:8080/"
        },
        "id": "Cu3L2bmrg1Vj",
        "outputId": "b2029a5c-5139-4d95-bd92-a08be1be183b"
      },
      "execution_count": null,
      "outputs": [
        {
          "output_type": "stream",
          "name": "stdout",
          "text": [
            "1\n",
            "2\n",
            "3\n",
            "9\n"
          ]
        }
      ]
    },
    {
      "cell_type": "markdown",
      "source": [
        "we can specify the first element and the last element to extract"
      ],
      "metadata": {
        "id": "fKfPUsBnjSX6"
      }
    },
    {
      "cell_type": "code",
      "source": [
        "print(number[1:7])"
      ],
      "metadata": {
        "colab": {
          "base_uri": "https://localhost:8080/"
        },
        "id": "gpxgsyyqjhqp",
        "outputId": "0f75db84-d0d9-47ab-9a03-8ebcff83fb81"
      },
      "execution_count": null,
      "outputs": [
        {
          "output_type": "stream",
          "name": "stdout",
          "text": [
            "234567\n"
          ]
        }
      ]
    },
    {
      "cell_type": "markdown",
      "source": [
        "we can tell python if we want to not extract some number bet the range"
      ],
      "metadata": {
        "id": "zvpTWOw8j3AQ"
      }
    },
    {
      "cell_type": "code",
      "source": [
        "print(number[0:9:2])\n",
        "print(number[1:9:2])"
      ],
      "metadata": {
        "colab": {
          "base_uri": "https://localhost:8080/"
        },
        "id": "35v_S_wzkUMx",
        "outputId": "e1c8472e-7f8b-434d-d917-b9ce46ec4d09"
      },
      "execution_count": null,
      "outputs": [
        {
          "output_type": "stream",
          "name": "stdout",
          "text": [
            "13579\n",
            "2468\n"
          ]
        }
      ]
    },
    {
      "cell_type": "markdown",
      "source": [
        "we can extract elements using negative indexing\n",
        "\n",
        "here -1 is 9, -2 is 8, -3 is 7, -4 is 6, -5 is 5, -6 is 4, -7 is 3, -8 is 2, -9 is 1"
      ],
      "metadata": {
        "id": "Deq-L5UTkpQh"
      }
    },
    {
      "cell_type": "code",
      "source": [
        "print(number[-5:-1])\n",
        "print(number[-9:-1])\n",
        "print(number[-10:-1:2])"
      ],
      "metadata": {
        "colab": {
          "base_uri": "https://localhost:8080/"
        },
        "id": "bhIGPIMdkviR",
        "outputId": "b2530b92-73dc-48a6-de9d-b98835079679"
      },
      "execution_count": null,
      "outputs": [
        {
          "output_type": "stream",
          "name": "stdout",
          "text": [
            "5678\n",
            "12345678\n",
            "1357\n"
          ]
        }
      ]
    },
    {
      "cell_type": "markdown",
      "source": [
        "**Avoid Syntax Error with String**\n",
        "\n",
        "One kind of error that you might see with some regularity is a syntax error. A syntax error occurs when Python doesn’t recognize a section of your program as valid Python code"
      ],
      "metadata": {
        "id": "IIupwCZVUqIg"
      }
    },
    {
      "cell_type": "code",
      "source": [
        " right_use_of_syntax = \"One of Python's strengths is its diverse community.\"\n",
        "print(right_use_of_syntax)"
      ],
      "metadata": {
        "colab": {
          "base_uri": "https://localhost:8080/"
        },
        "id": "7HYidwe-U8n3",
        "outputId": "5d0b1636-abf2-43b2-f564-61dc14b35dba"
      },
      "execution_count": null,
      "outputs": [
        {
          "output_type": "stream",
          "name": "stdout",
          "text": [
            "One of Python's strengths is its diverse community.\n"
          ]
        }
      ]
    },
    {
      "cell_type": "code",
      "source": [
        "wrong_use_of_syntax = 'One of Python's strengths is its diverse community.'\n",
        "print(wrong_use_of_syntax)"
      ],
      "metadata": {
        "colab": {
          "base_uri": "https://localhost:8080/",
          "height": 140
        },
        "id": "5iMmb5wYVWuv",
        "outputId": "bbaa7ab4-5b0f-4aca-9e61-6bd1ddca4224"
      },
      "execution_count": null,
      "outputs": [
        {
          "output_type": "error",
          "ename": "SyntaxError",
          "evalue": "ignored",
          "traceback": [
            "\u001b[0;36m  File \u001b[0;32m\"<ipython-input-57-2d39289c5941>\"\u001b[0;36m, line \u001b[0;32m1\u001b[0m\n\u001b[0;31m    wrong_use_of_syntax = 'One of Python's strengths is its diverse community.'\u001b[0m\n\u001b[0m                                                                              ^\u001b[0m\n\u001b[0;31mSyntaxError\u001b[0m\u001b[0;31m:\u001b[0m unterminated string literal (detected at line 1)\n"
          ]
        }
      ]
    },
    {
      "cell_type": "code",
      "source": [
        "#Queation_2.3  Store a person’s name in a variable, and print a message to that person.\n",
        "Name = \"Jhon\"\n",
        "print(\"Hello \" + Name +\", would you like to learn some python today?\")"
      ],
      "metadata": {
        "colab": {
          "base_uri": "https://localhost:8080/"
        },
        "id": "14v9F8LfWhK-",
        "outputId": "e35c80c5-f841-4ec1-aea9-6c082409eabd"
      },
      "execution_count": null,
      "outputs": [
        {
          "output_type": "stream",
          "name": "stdout",
          "text": [
            "Hello Jhon, would you like to learn some python today?\n"
          ]
        }
      ]
    },
    {
      "cell_type": "code",
      "source": [
        "#Question_2.4 Store a person’s name in a variable, and then print that person’s name in lowercase, uppercase, and titlecas\n",
        "Name = \"David Warner\"\n",
        "print(Name.lower())\n",
        "print(Name.upper())\n",
        "print(Name.title())"
      ],
      "metadata": {
        "colab": {
          "base_uri": "https://localhost:8080/"
        },
        "id": "TVmfPxm7XRT2",
        "outputId": "d1679b2c-d6dd-4399-fb2d-3743ed9a8113"
      },
      "execution_count": null,
      "outputs": [
        {
          "output_type": "stream",
          "name": "stdout",
          "text": [
            "david warner\n",
            "DAVID WARNER\n",
            "David Warner\n"
          ]
        }
      ]
    },
    {
      "cell_type": "code",
      "source": [
        "#Question_2.5  Find a quote from a famous person you admire. Print the quote and the name of its author.\n",
        "print(\"Albert Einstein once said, \\\"A person who never made a mistake never tried anything new.\\\"\")"
      ],
      "metadata": {
        "colab": {
          "base_uri": "https://localhost:8080/"
        },
        "id": "XoS-tBNuXyrO",
        "outputId": "1e70015b-e082-4af7-8df2-c9e6dacc62e3"
      },
      "execution_count": null,
      "outputs": [
        {
          "output_type": "stream",
          "name": "stdout",
          "text": [
            "Albert Einstein once said, \"A person who never made a mistake never tried anything new.\"\n"
          ]
        }
      ]
    },
    {
      "cell_type": "code",
      "source": [
        "#Question_2.6 Repeat Exercise 2.5, but this time store the famous person’s name in a variable called famous_person. Then compose your message and store it in a new variable called message. Print your message.\n",
        "Name = \"Albert Einstein\"\n",
        "Message = \"\\\"A person who never made a mistake never tried anything new.\\\"\"\n",
        "print(Name + \" once said, \" + Message)\n",
        "print(f\"{Name} once said, {Message}\")"
      ],
      "metadata": {
        "colab": {
          "base_uri": "https://localhost:8080/"
        },
        "id": "81HU_ZFMY6Bd",
        "outputId": "2e9475df-9ae9-46bf-e307-0bf96843d055"
      },
      "execution_count": null,
      "outputs": [
        {
          "output_type": "stream",
          "name": "stdout",
          "text": [
            "Albert Einstein once said, \"A person who never made a mistake never tried anything new.\"\n",
            "Albert Einstein once said, \"A person who never made a mistake never tried anything new.\"\n"
          ]
        }
      ]
    },
    {
      "cell_type": "code",
      "source": [
        "\"\"\"Question_2.7 : Store a person’s name, and include some whitespace\n",
        "characters at the beginning and end of the name. Make sure you use each\n",
        "character combination, \"\\t\" and \"\\n\", at least once.\n",
        "Print the name once, so the whitespace around the name is displayed.\n",
        "Then print the name using each of the three stripping functions, lstrip(),\n",
        "rstrip(), and strip()\"\"\"\n",
        "\n",
        "Name = \"\\tAlbert\\nEinstein\\t\"\n",
        "print(Name)\n",
        "print(Name.lstrip())\n",
        "print(Name.rstrip())\n",
        "print(Name.strip())\n"
      ],
      "metadata": {
        "colab": {
          "base_uri": "https://localhost:8080/"
        },
        "id": "GM3rFkCUaAI9",
        "outputId": "d2e1de90-6139-4d6f-cb68-446ba66cc087"
      },
      "execution_count": null,
      "outputs": [
        {
          "output_type": "stream",
          "name": "stdout",
          "text": [
            "\tAlbert\n",
            "Einstein\t\n",
            "Albert\n",
            "Einstein\t\n",
            "\tAlbert\n",
            "Einstein\n",
            "Albert\n",
            "Einstein\n"
          ]
        }
      ]
    },
    {
      "cell_type": "markdown",
      "source": [
        "**Numbers / int**"
      ],
      "metadata": {
        "id": "Y1pUwIXkbT99"
      }
    },
    {
      "cell_type": "code",
      "source": [
        "print(2+3)\n",
        "print(2*3)\n",
        "print(3-2)\n",
        "print(6/3)\n",
        "print(2**2)\n",
        "print(5%3)"
      ],
      "metadata": {
        "colab": {
          "base_uri": "https://localhost:8080/"
        },
        "id": "EMxdl6kgbpKV",
        "outputId": "2d53dd25-d818-4a7a-a1ab-f4bb42d7c989"
      },
      "execution_count": null,
      "outputs": [
        {
          "output_type": "stream",
          "name": "stdout",
          "text": [
            "5\n",
            "6\n",
            "1\n",
            "2.0\n",
            "4\n",
            "2\n"
          ]
        }
      ]
    },
    {
      "cell_type": "markdown",
      "source": [
        "**Decimal/Float**"
      ],
      "metadata": {
        "id": "XBNQsjMbgDg1"
      }
    },
    {
      "cell_type": "code",
      "source": [
        "print(2.3+2.3)\n",
        "print(2.3*2.3)"
      ],
      "metadata": {
        "colab": {
          "base_uri": "https://localhost:8080/"
        },
        "id": "_GRh86uogJ3i",
        "outputId": "1c735fc3-5402-4c1f-ae46-9b71ae6f32ec"
      },
      "execution_count": null,
      "outputs": [
        {
          "output_type": "stream",
          "name": "stdout",
          "text": [
            "4.6\n",
            "5.289999999999999\n"
          ]
        }
      ]
    },
    {
      "cell_type": "markdown",
      "source": [
        "**Type Error**\n",
        "\n",
        "we can add strings data using + sign.\n",
        "\n",
        "we also can add intigers data using + sign.\n",
        "\n",
        "but we can't add strings data and intigers data using + sign."
      ],
      "metadata": {
        "id": "OnGZP42vg_Li"
      }
    },
    {
      "cell_type": "code",
      "source": [
        "print(\"David \" + \"Warner\")\n",
        "print(2+3)"
      ],
      "metadata": {
        "colab": {
          "base_uri": "https://localhost:8080/"
        },
        "id": "oD1PhTAEiBGz",
        "outputId": "38458803-4e9f-406a-d938-54c6dccc2030"
      },
      "execution_count": null,
      "outputs": [
        {
          "output_type": "stream",
          "name": "stdout",
          "text": [
            "David Warner\n",
            "5\n"
          ]
        }
      ]
    },
    {
      "cell_type": "code",
      "source": [
        "print(\"David\" + 30)"
      ],
      "metadata": {
        "colab": {
          "base_uri": "https://localhost:8080/",
          "height": 175
        },
        "id": "B2U-FDNRiUsb",
        "outputId": "11544662-299f-45a3-ffa0-ae68c363dcca"
      },
      "execution_count": null,
      "outputs": [
        {
          "output_type": "error",
          "ename": "TypeError",
          "evalue": "ignored",
          "traceback": [
            "\u001b[0;31m---------------------------------------------------------------------------\u001b[0m",
            "\u001b[0;31mTypeError\u001b[0m                                 Traceback (most recent call last)",
            "\u001b[0;32m<ipython-input-81-8932d942d830>\u001b[0m in \u001b[0;36m<cell line: 1>\u001b[0;34m()\u001b[0m\n\u001b[0;32m----> 1\u001b[0;31m \u001b[0mprint\u001b[0m\u001b[0;34m(\u001b[0m\u001b[0;34m\"David\"\u001b[0m \u001b[0;34m+\u001b[0m \u001b[0;36m30\u001b[0m\u001b[0;34m)\u001b[0m\u001b[0;34m\u001b[0m\u001b[0;34m\u001b[0m\u001b[0m\n\u001b[0m",
            "\u001b[0;31mTypeError\u001b[0m: can only concatenate str (not \"int\") to str"
          ]
        }
      ]
    },
    {
      "cell_type": "code",
      "source": [
        "#Question_2.7 Store your favorite number in a variable. Then, using that variable, create a message that reveals your favorite number. Print that message.\n",
        "FavouriteNumber = 33.33\n",
        "print(\"This is my favourite number: \" + str(FavouriteNumber))"
      ],
      "metadata": {
        "colab": {
          "base_uri": "https://localhost:8080/"
        },
        "id": "vomAFxV_rJai",
        "outputId": "e470a7f3-b4ea-48be-bcae-d558932bc68a"
      },
      "execution_count": null,
      "outputs": [
        {
          "output_type": "stream",
          "name": "stdout",
          "text": [
            "This is my favourite number: 33.33\n"
          ]
        }
      ]
    }
  ]
}