{
  "nbformat": 4,
  "nbformat_minor": 0,
  "metadata": {
    "colab": {
      "provenance": [],
      "authorship_tag": "ABX9TyN/1ERKzVJaslrMQs5sA34B",
      "include_colab_link": true
    },
    "kernelspec": {
      "name": "python3",
      "display_name": "Python 3"
    },
    "language_info": {
      "name": "python"
    }
  },
  "cells": [
    {
      "cell_type": "markdown",
      "metadata": {
        "id": "view-in-github",
        "colab_type": "text"
      },
      "source": [
        "<a href=\"https://colab.research.google.com/github/Zohir011011/Python_Basics/blob/main/chapter_3_List.ipynb\" target=\"_parent\"><img src=\"https://colab.research.google.com/assets/colab-badge.svg\" alt=\"Open In Colab\"/></a>"
      ]
    },
    {
      "cell_type": "markdown",
      "source": [
        "#List In Python"
      ],
      "metadata": {
        "id": "y_cB8cPYcWQL"
      }
    },
    {
      "cell_type": "markdown",
      "source": [
        "Lists are used to store multiple items in a single variable.\n",
        "Lists are one of 4 built-in data types in Python used to store collections of data. Lists are created using square brackets:\n",
        "\n",
        "\n",
        "A list is a collection of items in a particular order. We can make a list that includes the letters of the alphabet, the digits from 0–9, or the names of all the people in our family. We can put anything we want into a list, the items in the list don’t have to be related in any particular way.\n",
        "\n"
      ],
      "metadata": {
        "id": "XifgQhILchMi"
      }
    },
    {
      "cell_type": "code",
      "source": [
        "mylists = [\"apple\", \"banana\", \"cherry\", 2, 3, 4, 2.542, 2.365]\n",
        "print(mylists)"
      ],
      "metadata": {
        "colab": {
          "base_uri": "https://localhost:8080/"
        },
        "id": "t1j96ER5dlu6",
        "outputId": "3e902051-67dd-4f3d-b792-f062899ef533"
      },
      "execution_count": null,
      "outputs": [
        {
          "output_type": "stream",
          "name": "stdout",
          "text": [
            "['apple', 'banana', 'cherry', 2, 3, 4, 2.542, 2.365]\n"
          ]
        }
      ]
    },
    {
      "cell_type": "code",
      "source": [
        " bicycles = ['trek', 'cannondale', 'redline', 'specialized']\n",
        " print (bicycles)"
      ],
      "metadata": {
        "colab": {
          "base_uri": "https://localhost:8080/"
        },
        "id": "695iflOfeeLy",
        "outputId": "1986f05f-c439-4a40-df19-b1ca85ffae37"
      },
      "execution_count": null,
      "outputs": [
        {
          "output_type": "stream",
          "name": "stdout",
          "text": [
            "['trek', 'cannondale', 'redline', 'specialized']\n"
          ]
        }
      ]
    },
    {
      "cell_type": "markdown",
      "source": [
        "List items are indexed and we can access them by referring to the index number"
      ],
      "metadata": {
        "id": "A6dqwwZ7dgkL"
      }
    },
    {
      "cell_type": "code",
      "source": [
        "bicycles = ['trek', 'cannondale', 'redline', 'specialized']\n",
        "print(bicycles[2])\n",
        "print(bicycles[0])"
      ],
      "metadata": {
        "colab": {
          "base_uri": "https://localhost:8080/"
        },
        "id": "7jHFv-HPfEiD",
        "outputId": "dd5f648f-2346-48a7-c1ba-208610a52d80"
      },
      "execution_count": null,
      "outputs": [
        {
          "output_type": "stream",
          "name": "stdout",
          "text": [
            "redline\n",
            "trek\n"
          ]
        }
      ]
    },
    {
      "cell_type": "markdown",
      "source": [
        "We can also use the string methods on any element in a list"
      ],
      "metadata": {
        "id": "UZJdLHa9fmHj"
      }
    },
    {
      "cell_type": "code",
      "source": [
        "print(bicycles[1].title())\n",
        "print(bicycles[1].upper())"
      ],
      "metadata": {
        "colab": {
          "base_uri": "https://localhost:8080/"
        },
        "id": "xAlr7gwGgKH6",
        "outputId": "6be2afba-862f-40f8-e938-53b6567a3eb0"
      },
      "execution_count": null,
      "outputs": [
        {
          "output_type": "stream",
          "name": "stdout",
          "text": [
            "Cannondale\n",
            "CANNONDALE\n"
          ]
        }
      ]
    },
    {
      "cell_type": "markdown",
      "source": [
        "**List Slicing**\n",
        "\n",
        "list slicing works same as string slicing"
      ],
      "metadata": {
        "id": "vGxwYlgFnCTh"
      }
    },
    {
      "cell_type": "code",
      "source": [
        "list_of_players = [\"David\", \"Mike\", \"Butler\", \"Adil\", \"Moin\", \"Bolt\", \"Michel\", \"Tamim\", \"Sakib\"]\n",
        "print(list_of_players[2])\n",
        "print(list_of_players[::2])\n",
        "print(list_of_players[5:7])"
      ],
      "metadata": {
        "colab": {
          "base_uri": "https://localhost:8080/"
        },
        "id": "4n_QPQbCgUMK",
        "outputId": "12a53c1d-6d10-4eca-b14a-1aaae182e25d"
      },
      "execution_count": null,
      "outputs": [
        {
          "output_type": "stream",
          "name": "stdout",
          "text": [
            "Butler\n",
            "['David', 'Butler', 'Moin', 'Michel', 'Sakib']\n",
            "['Bolt', 'Michel']\n"
          ]
        }
      ]
    },
    {
      "cell_type": "markdown",
      "source": [
        "extracting items from list and using them"
      ],
      "metadata": {
        "id": "EefM3giVoaBY"
      }
    },
    {
      "cell_type": "code",
      "source": [
        "message = \"My favourite Australian cricket player is: \" + list_of_players[0].title() + \".\"\n",
        "print(message)"
      ],
      "metadata": {
        "colab": {
          "base_uri": "https://localhost:8080/"
        },
        "id": "YlSzWMeUokLw",
        "outputId": "917c314b-f2ac-4cdb-fe1f-1ea31f096f0d"
      },
      "execution_count": null,
      "outputs": [
        {
          "output_type": "stream",
          "name": "stdout",
          "text": [
            "My favourite Australian cricket player is: David.\n"
          ]
        }
      ]
    },
    {
      "cell_type": "code",
      "source": [
        "#Q:3.1 : Store the names of a few of your friends in a list called names. Print each person’s name by accessing each element in the list, one at a time.\n",
        "\n",
        "My_friends = [\"Rokibul\", \"Miraj\", \"Tanbir\"]\n",
        "print(My_friends[0])\n",
        "print(My_friends[1])\n",
        "print(My_friends[2])"
      ],
      "metadata": {
        "colab": {
          "base_uri": "https://localhost:8080/"
        },
        "id": "CeyoAo12p5aH",
        "outputId": "50c791c8-b816-4529-9aaf-b0221a718442"
      },
      "execution_count": null,
      "outputs": [
        {
          "output_type": "stream",
          "name": "stdout",
          "text": [
            "Rokibul\n",
            "Miraj\n",
            "Tanbir\n"
          ]
        }
      ]
    },
    {
      "cell_type": "code",
      "source": [
        "\"\"\"Q:3.2 : : Start with the list you used in Exercise 3-1, but instead of just\n",
        "printing each person’s name, print a message to them. The text of each message should be the\n",
        "same, but each message should be personalized with the person’s name.\"\"\"\n",
        "\n",
        "My_friends = [\"Rokibul\", \"Miraj\", \"Tanbir\"]\n",
        "message = \" is my school friend.\"\n",
        "print(My_friends[0] + message)\n",
        "print(My_friends[1] + message)\n",
        "print(My_friends[2] + message)"
      ],
      "metadata": {
        "colab": {
          "base_uri": "https://localhost:8080/"
        },
        "id": "EyywNbDIq2MY",
        "outputId": "fc797f8e-24fd-41d0-9907-14d6b739fbde"
      },
      "execution_count": null,
      "outputs": [
        {
          "output_type": "stream",
          "name": "stdout",
          "text": [
            "Rokibul is my school friend.\n",
            "Miraj is my school friend.\n",
            "Tanbir is my school friend.\n"
          ]
        }
      ]
    },
    {
      "cell_type": "code",
      "source": [
        "\"\"\"Q:3.3 : Think of your favorite mode of transportation, such as a\n",
        "motorcycle or a car, and make a list that stores several examples. Use your list\n",
        "to print a series of statements about these items, such as “I would like to own a\n",
        "Honda motorcycle.” \"\"\"\n",
        "\n",
        "Transportation = [\"Bus\", \"Car\", \"Honda\", \"Train\", \"Launch\", \"Rikshaw\", \"Bike\"]\n",
        "print(\"I like to travel by \" + Transportation[0].lower() + \"but travelling become easy and fun if you have a personal\" + Transportation[1].lower()\n",
        "+ \". \\nI also like to go outing for few hours using \" + Transportation[6] + \".\")"
      ],
      "metadata": {
        "colab": {
          "base_uri": "https://localhost:8080/"
        },
        "id": "i7moFQl4sCVg",
        "outputId": "b45d3dc1-156a-43cc-f8b5-a41c1c79fd0c"
      },
      "execution_count": null,
      "outputs": [
        {
          "output_type": "stream",
          "name": "stdout",
          "text": [
            "I like to travel by busbut travelling become easy and fun if you have a personalcar. \n",
            "I also like to go outing for few hours using Bike.\n"
          ]
        }
      ]
    },
    {
      "cell_type": "markdown",
      "source": [
        "**List Method**\n",
        "\n",
        "\n",
        "1.   append()--Adds an element at the end of the list\n",
        "2.   clear()--Removes all the elements from the list\n",
        "\n",
        "1.   copy()-- Returns a copy of the list\n",
        "2.   count()--Returns the number of elements with the specified value\n",
        "\n",
        "1.   extend()--Add the elements of a list to the end of the current list\n",
        "2.   index()--Returns the index of the first element with the specified value\n",
        "\n",
        "1.   insert()--Adds an element at the specified position\n",
        "2.   pop()--Removes the element at the specified position\n",
        "\n",
        "1.   remove()--Removes the item with the specified value\n",
        "2.   reverse()--Reverses the order of the list\n",
        "\n",
        "1.   sort()--Sorts the list\n",
        "\n",
        "1.   del()--Remove element from list\n",
        "\n",
        "\n",
        "\n",
        "\n",
        "\n",
        "\n",
        "\n",
        "\n",
        "\n",
        "\n",
        "\n",
        "\n",
        "\n",
        "\n"
      ],
      "metadata": {
        "id": "-gvE3aKAvF2X"
      }
    },
    {
      "cell_type": "code",
      "source": [
        "list_of_players = [\"David\", \"Mike\", \"Butler\", \"Adil\", \"Moin\", \"Bolt\", \"Michel\", \"Tamim\", \"Sakib\"]\n",
        "list1 = [\"Banana\", \"Mango\", \"Papya\"]\n",
        "\n",
        "\n",
        "\n",
        "list_of_players.sort()                              #sort()\n",
        "print(\"Sort: \", list_of_players)\n",
        "list_of_players.sort(reverse=True)\n",
        "print(list_of_players)\n",
        "\n",
        "list_of_players.reverse()                           #reverse()\n",
        "print(\"Reverse: \", list_of_players)\n",
        "\n",
        "list1.clear()                                       #clear()\n",
        "print(\"Clear: \", list1)\n",
        "\n",
        "copy_list = list_of_players.copy()                  #copy()\n",
        "print(\"Copy: \", copy_list)\n",
        "\n",
        "print(\"Count: \", list_of_players.count(\"Mike\"))       #count()\n",
        "\n",
        "more_players = [\"Virat\", \"Babar\", \"Rohit\", \"Rashid\"]   #extend()\n",
        "list_of_players.extend(more_players)\n",
        "print(\"Extend: \", list_of_players)\n",
        "\n",
        "print(\"Index: \", list_of_players.index(\"Sakib\"))        #index()\n",
        "\n",
        "list_of_players.insert(1, \"AB\")                         #insert()\n",
        "print(list_of_players)\n",
        "\n",
        "list_of_players.pop(13)                                 #pop()\n",
        "print(\"Pop: \", list_of_players)\n",
        "\n",
        "list_of_players.remove(\"Mike\")                          #remove()\n",
        "print(\"Remove: \", list_of_players)\n",
        "\n",
        "list_of_players.append(\"Taskin\")                       #append()\n",
        "print(\"Append: \", list_of_players)\n",
        "\n",
        "del list_of_players[10:]                              #del\n",
        "print(\"Delete: \", list_of_players)"
      ],
      "metadata": {
        "colab": {
          "base_uri": "https://localhost:8080/"
        },
        "id": "FlNonQdawdmn",
        "outputId": "e3c37e06-1ec7-4e9f-fa54-3db46b36a4b0"
      },
      "execution_count": null,
      "outputs": [
        {
          "output_type": "stream",
          "name": "stdout",
          "text": [
            "Sort:  ['Adil', 'Bolt', 'Butler', 'David', 'Michel', 'Mike', 'Moin', 'Sakib', 'Tamim']\n",
            "['Tamim', 'Sakib', 'Moin', 'Mike', 'Michel', 'David', 'Butler', 'Bolt', 'Adil']\n",
            "Reverse:  ['Adil', 'Bolt', 'Butler', 'David', 'Michel', 'Mike', 'Moin', 'Sakib', 'Tamim']\n",
            "Clear:  []\n",
            "Copy:  ['Adil', 'Bolt', 'Butler', 'David', 'Michel', 'Mike', 'Moin', 'Sakib', 'Tamim']\n",
            "Count:  1\n",
            "Extend:  ['Adil', 'Bolt', 'Butler', 'David', 'Michel', 'Mike', 'Moin', 'Sakib', 'Tamim', 'Virat', 'Babar', 'Rohit', 'Rashid']\n",
            "Index:  7\n",
            "['Adil', 'AB', 'Bolt', 'Butler', 'David', 'Michel', 'Mike', 'Moin', 'Sakib', 'Tamim', 'Virat', 'Babar', 'Rohit', 'Rashid']\n",
            "Pop:  ['Adil', 'AB', 'Bolt', 'Butler', 'David', 'Michel', 'Mike', 'Moin', 'Sakib', 'Tamim', 'Virat', 'Babar', 'Rohit']\n",
            "Remove:  ['Adil', 'AB', 'Bolt', 'Butler', 'David', 'Michel', 'Moin', 'Sakib', 'Tamim', 'Virat', 'Babar', 'Rohit']\n",
            "Append:  ['Adil', 'AB', 'Bolt', 'Butler', 'David', 'Michel', 'Moin', 'Sakib', 'Tamim', 'Virat', 'Babar', 'Rohit', 'Taskin']\n",
            "Delete:  ['Adil', 'AB', 'Bolt', 'Butler', 'David', 'Michel', 'Moin', 'Sakib', 'Tamim', 'Virat']\n"
          ]
        }
      ]
    },
    {
      "cell_type": "markdown",
      "source": [
        "We can change element with another element in the list"
      ],
      "metadata": {
        "id": "Rgo_cGdnFysa"
      }
    },
    {
      "cell_type": "code",
      "source": [
        "motorcycles = ['honda', 'yamaha', 'suzuki']\n",
        "print(motorcycles)\n",
        "motorcycles[1] = 'zixer'\n",
        "print(motorcycles)"
      ],
      "metadata": {
        "colab": {
          "base_uri": "https://localhost:8080/"
        },
        "id": "j3TMNVG4yMWG",
        "outputId": "fc2ed8ab-51b5-4c13-84cd-e21bf9f19d09"
      },
      "execution_count": null,
      "outputs": [
        {
          "output_type": "stream",
          "name": "stdout",
          "text": [
            "['honda', 'yamaha', 'suzuki']\n",
            "['honda', 'zixer', 'suzuki']\n"
          ]
        }
      ]
    },
    {
      "cell_type": "markdown",
      "source": [
        "we can find the number of elements in a list using len function"
      ],
      "metadata": {
        "id": "KPqZAqE1HYto"
      }
    },
    {
      "cell_type": "code",
      "source": [
        "list_of_players = [\"David\", \"Mike\", \"Butler\", \"Adil\", \"Moin\", \"Bolt\", \"Michel\", \"Tamim\", \"Sakib\"]\n",
        "print(len(list_of_players))"
      ],
      "metadata": {
        "colab": {
          "base_uri": "https://localhost:8080/"
        },
        "id": "B4Ih7p3cG8Mh",
        "outputId": "05c3c5ff-a4bd-4713-bed2-ed346a77af9c"
      },
      "execution_count": null,
      "outputs": [
        {
          "output_type": "stream",
          "name": "stdout",
          "text": [
            "9\n"
          ]
        }
      ]
    },
    {
      "cell_type": "code",
      "source": [
        "\"\"\"Q:3.4 : If you could invite anyone, living or deceased, to dinner, who\n",
        "would you invite? Make a list that includes at least three people you’d like to\n",
        "invite to dinner. Then use your list to print a message to each person, inviting\n",
        "them to dinner\"\"\"\n",
        "\n",
        "Guests = [\"Super-Man\", \"X-Man\", \"Spider-Man\", \"Hulk\", \"Bat-Man\", \"Iron-Man\", \"Grean-Lanter\", \"Flash\"]\n",
        "print(\"Hi \" + Guests[2] + \", I am thorwing a party next friday. You are invited for the party.\")\n",
        "print(\"Hi \" + Guests[3] + \", I am thorwing a party next friday. You are invited for the party.\")\n",
        "print(\"Hi \" + Guests[5] + \", I am thorwing a party next friday. You are invited for the party.\")"
      ],
      "metadata": {
        "colab": {
          "base_uri": "https://localhost:8080/"
        },
        "id": "tKNS0sCxIB3Q",
        "outputId": "7b65f46e-9df7-44a8-a480-a1a21990846c"
      },
      "execution_count": null,
      "outputs": [
        {
          "output_type": "stream",
          "name": "stdout",
          "text": [
            "Hi Spider-Man, I am thorwing a party next friday. You are invited for the party.\n",
            "Hi Hulk, I am thorwing a party next friday. You are invited for the party.\n",
            "Hi Iron-Man, I am thorwing a party next friday. You are invited for the party.\n"
          ]
        }
      ]
    },
    {
      "cell_type": "code",
      "source": [
        "\"\"\"Q:3.5 : You just heard that one of your guests can’t make the\n",
        "dinner, so you need to send out a new set of invitations. You’ll have to think of\n",
        "someone else to invite.\n",
        "•\t Start with your program from Exercise 3-4. Add a print statement at the\n",
        "end of your program stating the name of the guest who can’t make it.\"\"\"\n",
        "\n",
        "print(Guests[3] + \" Has a problem. So he can't make it\")\n",
        "\n",
        "\"\"\"Modify your list, replacing the name of the guest who can’t make it with\n",
        "the name of the new person you are inviting.\"\"\"\n",
        "\n",
        "Guests.remove(\"Hulk\")\n",
        "new_list = Guests\n",
        "print(new_list)"
      ],
      "metadata": {
        "colab": {
          "base_uri": "https://localhost:8080/"
        },
        "id": "Y2d7ILgyJtXZ",
        "outputId": "bf55a8aa-ea05-43f5-c378-a23ac613f6e4"
      },
      "execution_count": null,
      "outputs": [
        {
          "output_type": "stream",
          "name": "stdout",
          "text": [
            "Hulk Has a problem. So he can't make it\n",
            "['Super-Man', 'X-Man', 'Spider-Man', 'Bat-Man', 'Iron-Man', 'Grean-Lanter', 'Flash']\n"
          ]
        }
      ]
    },
    {
      "cell_type": "code",
      "source": [
        "invition = \"Hi, I am throwing a party next friday. You guys are invited. \" + new_list[0] + \", \" + new_list[2] + \", \" + new_list[4] + \" hope you guys will make it.\"\n",
        "print(invition)"
      ],
      "metadata": {
        "colab": {
          "base_uri": "https://localhost:8080/"
        },
        "id": "a5FgNGfxLtn4",
        "outputId": "8bc557bb-ae71-467b-e586-b7a4541f6def"
      },
      "execution_count": null,
      "outputs": [
        {
          "output_type": "stream",
          "name": "stdout",
          "text": [
            "Hi, I am throwing a party next friday. You guys are invited. Super-Man, Spider-Man, Iron-Man hope you guys will make it.\n"
          ]
        }
      ]
    }
  ]
}